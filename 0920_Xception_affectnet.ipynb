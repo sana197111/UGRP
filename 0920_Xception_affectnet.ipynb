{
 "cells": [
  {
   "cell_type": "code",
   "execution_count": 1,
   "id": "6267b3e7",
   "metadata": {},
   "outputs": [],
   "source": [
    "import numpy as np\n",
    "import os\n",
    "os.environ['TF_ENABLE_ONEDNN_OPTS']='0'\n",
    "os.environ['TF_CPP_MIN_LOG_LEVEL'] = '2'\n",
    "import pandas as pd\n",
    "import tensorflow as tf \n",
    "from tensorflow import keras\n",
    "import matplotlib.pyplot as plt\n",
    "\n",
    "ALL_DATA_DIR = '/media/windows/'\n",
    "training = ALL_DATA_DIR + 'AffectNet_train_set/seven/'\n",
    "validation = ALL_DATA_DIR + 'AffectNet_val_set/seven/'"
   ]
  },
  {
   "cell_type": "code",
   "execution_count": 2,
   "id": "75c83fcb",
   "metadata": {
    "pycharm": {
     "name": "#%%\n"
    }
   },
   "outputs": [],
   "source": [
    "batch_size = 32 \n",
    "img_height = 224\n",
    "img_width = 224 "
   ]
  },
  {
   "cell_type": "code",
   "execution_count": 3,
   "id": "51196fff",
   "metadata": {
    "pycharm": {
     "name": "#%%\n"
    }
   },
   "outputs": [],
   "source": [
    "def preprocess(image, label):\n",
    "    final_image = keras.applications.xception.preprocess_input(image)\n",
    "    return final_image, label"
   ]
  },
  {
   "cell_type": "code",
   "execution_count": 4,
   "id": "3c5f64bd",
   "metadata": {
    "pycharm": {
     "name": "#%%\n"
    },
    "scrolled": false
   },
   "outputs": [
    {
     "name": "stdout",
     "output_type": "stream",
     "text": [
      "Found 3500 files belonging to 7 classes.\n",
      "Found 283901 files belonging to 7 classes.\n"
     ]
    }
   ],
   "source": [
    "validation_s = tf.keras.utils.image_dataset_from_directory(validation, labels = 'inferred',\n",
    "            image_size=(img_height,img_width), batch_size=None, seed=42)\n",
    "training_s = tf.keras.utils.image_dataset_from_directory(training, labels= 'inferred',\n",
    "            image_size=(img_height, img_width), batch_size=None, seed=42)"
   ]
  },
  {
   "cell_type": "code",
   "execution_count": 5,
   "id": "0d4f1243",
   "metadata": {
    "pycharm": {
     "name": "#%%\n"
    }
   },
   "outputs": [],
   "source": [
    "validation_ds = validation_s.map(preprocess).batch(batch_size).prefetch(1)\n",
    "training_ds = training_s.map(preprocess).batch(batch_size).prefetch(1)"
   ]
  },
  {
   "cell_type": "code",
   "execution_count": 6,
   "id": "9d1bd9cb",
   "metadata": {
    "pycharm": {
     "name": "#%%\n"
    },
    "scrolled": false
   },
   "outputs": [],
   "source": [
    "base_model = keras.applications.Xception(input_shape=(224,224,3), include_top = False, weights='imagenet')"
   ]
  },
  {
   "cell_type": "code",
   "execution_count": 7,
   "id": "c12aec1f",
   "metadata": {
    "pycharm": {
     "name": "#%%\n"
    }
   },
   "outputs": [],
   "source": [
    "avg = keras.layers.GlobalAveragePooling2D()(base_model.output)\n",
    "output = keras.layers.Dense(7, activation='softmax')(avg)\n",
    "model = keras.Model(inputs=base_model.input, outputs=output)"
   ]
  },
  {
   "cell_type": "code",
   "execution_count": 8,
   "id": "5cde5774",
   "metadata": {
    "pycharm": {
     "name": "#%%\n"
    }
   },
   "outputs": [],
   "source": [
    "for layer in base_model.layers:\n",
    "    layer.trainable = False"
   ]
  },
  {
   "cell_type": "code",
   "execution_count": 9,
   "id": "4b90e5b2",
   "metadata": {
    "pycharm": {
     "name": "#%%\n"
    }
   },
   "outputs": [],
   "source": [
    "model.compile(optimizer=\"Adam\",\n",
    "              loss='sparse_categorical_crossentropy',\n",
    "              metrics=['accuracy'])"
   ]
  },
  {
   "cell_type": "code",
   "execution_count": 10,
   "id": "b55fb4ae",
   "metadata": {
    "pycharm": {
     "name": "#%%\n"
    },
    "scrolled": false
   },
   "outputs": [
    {
     "name": "stdout",
     "output_type": "stream",
     "text": [
      "Epoch 1/5\n",
      "8872/8872 [==============================] - 1250s 140ms/step - loss: 1.0863 - accuracy: 0.6107 - val_loss: 1.9899 - val_accuracy: 0.3171\n",
      "Epoch 2/5\n",
      "8872/8872 [==============================] - 1271s 143ms/step - loss: 1.0377 - accuracy: 0.6269 - val_loss: 2.0065 - val_accuracy: 0.3200\n",
      "Epoch 3/5\n",
      "8872/8872 [==============================] - 1270s 143ms/step - loss: 1.0261 - accuracy: 0.6311 - val_loss: 2.0513 - val_accuracy: 0.3243\n",
      "Epoch 4/5\n",
      "8872/8872 [==============================] - 1270s 143ms/step - loss: 1.0209 - accuracy: 0.6324 - val_loss: 2.1394 - val_accuracy: 0.3203\n",
      "Epoch 5/5\n",
      "8872/8872 [==============================] - 1270s 143ms/step - loss: 1.0170 - accuracy: 0.6334 - val_loss: 2.0202 - val_accuracy: 0.3200\n"
     ]
    },
    {
     "data": {
      "text/plain": [
       "<keras.callbacks.History at 0x7f82604cf4c0>"
      ]
     },
     "execution_count": 10,
     "metadata": {},
     "output_type": "execute_result"
    }
   ],
   "source": [
    "model.fit(training_ds, validation_data=validation_ds, epochs=5)"
   ]
  },
  {
   "cell_type": "code",
   "execution_count": 11,
   "id": "64b257c0",
   "metadata": {
    "pycharm": {
     "name": "#%%\n"
    }
   },
   "outputs": [],
   "source": [
    "for layer in base_model.layers:\n",
    "    layer.trainable = True"
   ]
  },
  {
   "cell_type": "code",
   "execution_count": 12,
   "id": "d9a191e9",
   "metadata": {
    "pycharm": {
     "name": "#%%\n"
    }
   },
   "outputs": [],
   "source": [
    "opt = keras.optimizers.Adam(learning_rate=1e-4) #with unfreezing, lessen the learning rate (0.0001)"
   ]
  },
  {
   "cell_type": "code",
   "execution_count": 13,
   "id": "095d2ecf",
   "metadata": {
    "pycharm": {
     "name": "#%%\n"
    },
    "scrolled": true
   },
   "outputs": [],
   "source": [
    "es = keras.callbacks.EarlyStopping(patience=5, restore_best_weights=True) \n",
    "#why? if there is no loss difference between epochs=> stop the fitting "
   ]
  },
  {
   "cell_type": "code",
   "execution_count": 14,
   "id": "cf70976c",
   "metadata": {},
   "outputs": [],
   "source": [
    "model.compile(loss='sparse_categorical_crossentropy', optimizer=opt, metrics=['accuracy'])"
   ]
  },
  {
   "cell_type": "code",
   "execution_count": 15,
   "id": "13fef656",
   "metadata": {
    "pycharm": {
     "name": "#%%\n"
    },
    "scrolled": false
   },
   "outputs": [
    {
     "name": "stdout",
     "output_type": "stream",
     "text": [
      "Epoch 1/10\n",
      "8872/8872 [==============================] - 5516s 621ms/step - loss: 0.6699 - accuracy: 0.7565 - val_loss: 1.2189 - val_accuracy: 0.5631\n",
      "Epoch 2/10\n",
      "8872/8872 [==============================] - 5452s 614ms/step - loss: 0.5461 - accuracy: 0.7983 - val_loss: 1.2200 - val_accuracy: 0.5857\n",
      "Epoch 3/10\n",
      "8872/8872 [==============================] - 5492s 619ms/step - loss: 0.4211 - accuracy: 0.8421 - val_loss: 1.5737 - val_accuracy: 0.5740\n",
      "Epoch 4/10\n",
      "8872/8872 [==============================] - 5481s 618ms/step - loss: 0.2877 - accuracy: 0.8915 - val_loss: 1.9973 - val_accuracy: 0.5751\n",
      "Epoch 5/10\n",
      "8872/8872 [==============================] - 5511s 621ms/step - loss: 0.2076 - accuracy: 0.9219 - val_loss: 2.2307 - val_accuracy: 0.5514\n",
      "Epoch 6/10\n",
      "8872/8872 [==============================] - 5506s 621ms/step - loss: 0.1669 - accuracy: 0.9376 - val_loss: 2.3605 - val_accuracy: 0.5671\n"
     ]
    }
   ],
   "source": [
    "history = model.fit(training_ds, validation_data=validation_ds, epochs=10, callbacks=[es])\n",
    "model.save('0920_Affect_Xception_eval.h5')"
   ]
  },
  {
   "cell_type": "code",
   "execution_count": 16,
   "id": "9d7a04bd",
   "metadata": {
    "scrolled": true
   },
   "outputs": [
    {
     "name": "stdout",
     "output_type": "stream",
     "text": [
      "110/110 [==============================] - 16s 139ms/step - loss: 1.2189 - accuracy: 0.5631\n"
     ]
    },
    {
     "data": {
      "text/plain": [
       "[1.2189241647720337, 0.5631428360939026]"
      ]
     },
     "execution_count": 16,
     "metadata": {},
     "output_type": "execute_result"
    }
   ],
   "source": [
    "model.evaluate(validation_ds)"
   ]
  },
  {
   "cell_type": "code",
   "execution_count": 17,
   "id": "8d7c9504",
   "metadata": {},
   "outputs": [
    {
     "name": "stdout",
     "output_type": "stream",
     "text": [
      "8872/8872 [==============================] - 1256s 142ms/step - loss: 0.5464 - accuracy: 0.7989\n"
     ]
    },
    {
     "data": {
      "text/plain": [
       "[0.5463612079620361, 0.7988594770431519]"
      ]
     },
     "execution_count": 17,
     "metadata": {},
     "output_type": "execute_result"
    }
   ],
   "source": [
    "model.evaluate(training_ds)"
   ]
  },
  {
   "cell_type": "code",
   "execution_count": null,
   "id": "00620eb2",
   "metadata": {},
   "outputs": [],
   "source": []
  }
 ],
 "metadata": {
  "kernelspec": {
   "display_name": "Python 3 (ipykernel)",
   "language": "python",
   "name": "python3"
  },
  "language_info": {
   "codemirror_mode": {
    "name": "ipython",
    "version": 3
   },
   "file_extension": ".py",
   "mimetype": "text/x-python",
   "name": "python",
   "nbconvert_exporter": "python",
   "pygments_lexer": "ipython3",
   "version": "3.9.5"
  }
 },
 "nbformat": 4,
 "nbformat_minor": 5
}
