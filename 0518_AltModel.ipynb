{
 "cells": [
  {
   "cell_type": "code",
   "execution_count": null,
   "id": "51b2e076",
   "metadata": {},
   "outputs": [],
   "source": [
    "from tensorflow import keras\n",
    "fmnist = keras.datasets.fashion_mnist\n",
    "\n",
    "(X_train, y_train), (X_test, y_test) = fmnist.load_data()\n",
    "X_train, X_test = X_train / 255.0 , X_test / 255.0\n",
    "from tensorflow.keras import layers\n",
    "import pandas as pd\n",
    "import matplotlib.pyplot as plt\n",
    "import os\n",
    "import pickle\n",
    "root_logdir = os.path.join(os.curdir, \"my_tb_logs\")"
   ]
  },
  {
   "cell_type": "code",
   "execution_count": null,
   "id": "259a01fd",
   "metadata": {},
   "outputs": [],
   "source": [
    "def get_run_logdir():\n",
    "    import time\n",
    "    run_id = time.strftime(\"run_%Y_%m_%d_%H_%M_%S\")\n",
    "    return os.path.join(root_logdir, run_id)\n",
    "\n",
    "run_logdir = get_run_logdir()"
   ]
  },
  {
   "cell_type": "code",
   "execution_count": null,
   "id": "1755f4b8",
   "metadata": {},
   "outputs": [],
   "source": [
    "def MLP():\n",
    "    model = keras.models.Sequential()\n",
    "    model.add(layers.Flatten(input_shape=[28, 28]))\n",
    "    model.add(layers.Dense(300, activation=\"relu\"))\n",
    "    model.add(layers.Dense(100, activation=\"relu\"))\n",
    "    model.add(layers.Dense(10, activation=\"softmax\"))\n",
    "    return model"
   ]
  },
  {
   "cell_type": "code",
   "execution_count": null,
   "id": "dadc0aa4",
   "metadata": {},
   "outputs": [],
   "source": [
    "def compiler(lr=0, model=MLP(), op=\"sgd\"):\n",
    "    if op==\"sgd\":\n",
    "        optimizer = keras.optimizers.SGD(learning_rate=lr) if lr!=0 else keras.optimizers.SGD()\n",
    "    elif op==\"nes\":\n",
    "        optimizer = keras.optimizers.SGD(learning_rate=lr, momentum=0.9, nesterov=True) if lr!=0 else keras.optimizers.SGD(momentum=0.9, nesterov=True)\n",
    "    elif op==\"adg\":\n",
    "        optimizer = keras.optimizers.Adagrad(learning_rate=lr) if lr!=0 else keras.optimizers.Adagrad()\n",
    "    elif op==\"rms\":\n",
    "        optimizer = keras.optimizers.RMSprop(learning_rate=lr) if lr!=0 else keras.optimizers.RMSprop()\n",
    "    elif op==\"adm\":\n",
    "        optimizer = keras.optimizers.Adam(learning_rate=lr) if lr!=0 else keras.optimizers.Adam()\n",
    "    model.compile(loss=\"sparse_categorical_crossentropy\", optimizer=optimizer, metrics=[\"accuracy\"])\n",
    "    return model"
   ]
  },
  {
   "cell_type": "code",
   "execution_count": null,
   "id": "ad55404c",
   "metadata": {},
   "outputs": [],
   "source": [
    "def trainer(lr, model):\n",
    "    name = \"model_0515_(lr)\" + str(lr) + \".h5\"\n",
    "    cp = keras.callbacks.ModelCheckpoint(name, save_best_only=True)\n",
    "    es = keras.callbacks.EarlyStopping(patience=10, restore_best_weights=True)\n",
    "    tb = keras.callbacks.TensorBoard(run_logdir)\n",
    "    history = model.fit(X_train, y_train, epochs=10, validation_split=0.2, callbacks=[cp, es, tb])\n",
    "    hisc = \"history_(lr)\" +  str(lr) + \".csv\"\n",
    "    hd = pd.DataFrame(history.history)\n",
    "    with open(hisc, mode='w') as f:\n",
    "        hd.to_csv(f)\n",
    "    return history"
   ]
  },
  {
   "cell_type": "code",
   "execution_count": null,
   "id": "0bbafb5d",
   "metadata": {},
   "outputs": [],
   "source": [
    "def grapher(lr):\n",
    "    name = \"history_(lr)\" + str(lr) + \".csv\"\n",
    "    df = pd.read_csv(name, index_col=0)\n",
    "    df.plot(figsize=(8,5))\n",
    "    plt.grid(True)\n",
    "    plt.gca().set_ylim(0, 1)\n",
    "    plt.show()"
   ]
  },
  {
   "cell_type": "code",
   "execution_count": null,
   "id": "09a905f6",
   "metadata": {},
   "outputs": [],
   "source": [
    "def test(lr):\n",
    "    name = \"model_0515_(lr)\" + str(lr) + \".h5\"\n",
    "    model = keras.models.load_model(name)\n",
    "    test = model.evaluate(X_test, y_test)\n",
    "    return test"
   ]
  },
  {
   "cell_type": "code",
   "execution_count": null,
   "id": "4c545a8d",
   "metadata": {},
   "outputs": [],
   "source": [
    "model = MLP()"
   ]
  },
  {
   "cell_type": "code",
   "execution_count": null,
   "id": "fea14ba9",
   "metadata": {},
   "outputs": [],
   "source": [
    "model2 = compiler(lr=0.01, model=model)"
   ]
  },
  {
   "cell_type": "code",
   "execution_count": null,
   "id": "507331d5",
   "metadata": {},
   "outputs": [],
   "source": [
    "model2.summary()"
   ]
  },
  {
   "cell_type": "code",
   "execution_count": null,
   "id": "2221cb4b",
   "metadata": {},
   "outputs": [],
   "source": [
    "trainer(0.01, model2)"
   ]
  },
  {
   "cell_type": "code",
   "execution_count": null,
   "id": "92ed7697",
   "metadata": {
    "scrolled": true
   },
   "outputs": [],
   "source": [
    "grapher(0.01)"
   ]
  },
  {
   "cell_type": "code",
   "execution_count": null,
   "id": "0d167578",
   "metadata": {},
   "outputs": [],
   "source": [
    "test(0.01)"
   ]
  }
 ],
 "metadata": {
  "kernelspec": {
   "display_name": "Python 3 (ipykernel)",
   "language": "python",
   "name": "python3"
  },
  "language_info": {
   "codemirror_mode": {
    "name": "ipython",
    "version": 3
   },
   "file_extension": ".py",
   "mimetype": "text/x-python",
   "name": "python",
   "nbconvert_exporter": "python",
   "pygments_lexer": "ipython3",
   "version": "3.9.7"
  }
 },
 "nbformat": 4,
 "nbformat_minor": 5
}
