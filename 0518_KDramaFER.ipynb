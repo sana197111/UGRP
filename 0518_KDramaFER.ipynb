{
 "cells": [
  {
   "cell_type": "code",
   "execution_count": 1,
   "id": "b8b963ed",
   "metadata": {},
   "outputs": [],
   "source": [
    "import tensorflow as tf\n",
    "from tensorflow import keras\n",
    "import matplotlib.pyplot as plt\n",
    "import numpy as np\n",
    "import pandas as pd\n",
    "import os"
   ]
  },
  {
   "cell_type": "code",
   "execution_count": 2,
   "id": "1850ed46",
   "metadata": {},
   "outputs": [],
   "source": [
    "set_seed = 46\n",
    "np.random.seed(set_seed)\n",
    "tf.random.set_seed(set_seed)"
   ]
  },
  {
   "cell_type": "code",
   "execution_count": 3,
   "id": "10a95a0a",
   "metadata": {},
   "outputs": [],
   "source": [
    "df = pd.read_csv(\"ModifiedFER2013.csv\", index_col = False)"
   ]
  },
  {
   "cell_type": "code",
   "execution_count": 4,
   "id": "525105c8",
   "metadata": {},
   "outputs": [],
   "source": [
    "px = df[\"pixel\"]"
   ]
  },
  {
   "cell_type": "code",
   "execution_count": 5,
   "id": "8f39a2e7",
   "metadata": {
    "scrolled": true
   },
   "outputs": [],
   "source": [
    "spx = px.str.split()"
   ]
  },
  {
   "cell_type": "code",
   "execution_count": 6,
   "id": "07fc0df1",
   "metadata": {},
   "outputs": [],
   "source": [
    "X=[]\n",
    "for i in range(len(spx)):\n",
    "    s = np.array(spx[i]).reshape(48, 48).astype('float32')\n",
    "    X.append(s/255)"
   ]
  },
  {
   "cell_type": "code",
   "execution_count": 7,
   "id": "01d31ed3",
   "metadata": {},
   "outputs": [],
   "source": [
    "X = np.array(X)"
   ]
  },
  {
   "cell_type": "code",
   "execution_count": 8,
   "id": "783a5ada",
   "metadata": {},
   "outputs": [
    {
     "data": {
      "text/plain": [
       "(29689, 48, 48)"
      ]
     },
     "execution_count": 8,
     "metadata": {},
     "output_type": "execute_result"
    }
   ],
   "source": [
    "X.shape"
   ]
  },
  {
   "cell_type": "code",
   "execution_count": 9,
   "id": "b36c5517",
   "metadata": {},
   "outputs": [],
   "source": [
    "label = np.array(df[\"type\"])"
   ]
  },
  {
   "cell_type": "code",
   "execution_count": 10,
   "id": "005e3996",
   "metadata": {
    "scrolled": true
   },
   "outputs": [
    {
     "data": {
      "text/plain": [
       "(29689,)"
      ]
     },
     "execution_count": 10,
     "metadata": {},
     "output_type": "execute_result"
    }
   ],
   "source": [
    "label.shape"
   ]
  },
  {
   "cell_type": "code",
   "execution_count": 11,
   "id": "1133d7ae",
   "metadata": {},
   "outputs": [],
   "source": [
    "y = np.array(df[\"emotion\"])"
   ]
  },
  {
   "cell_type": "code",
   "execution_count": 12,
   "id": "59b13962",
   "metadata": {},
   "outputs": [],
   "source": [
    "X_train, X_valid, X_test = X[:24291], X[24291:26990], X[26990:]\n",
    "y_train, y_valid, y_test = y[:24291], y[24291:26990], y[26990:]"
   ]
  },
  {
   "cell_type": "code",
   "execution_count": null,
   "id": "de8f821f",
   "metadata": {},
   "outputs": [
    {
     "name": "stdout",
     "output_type": "stream",
     "text": [
      "Epoch 1/1000\n",
      "760/760 [==============================] - 38s 36ms/step - loss: 1.6499 - accuracy: 0.3004 - val_loss: 1.6574 - val_accuracy: 0.3201\n",
      "Epoch 2/1000\n",
      "760/760 [==============================] - 27s 35ms/step - loss: 1.6270 - accuracy: 0.3066 - val_loss: 1.6307 - val_accuracy: 0.3235\n",
      "Epoch 3/1000\n",
      "760/760 [==============================] - 27s 35ms/step - loss: 1.6140 - accuracy: 0.3122 - val_loss: 1.5977 - val_accuracy: 0.3409\n",
      "Epoch 4/1000\n",
      "760/760 [==============================] - 27s 35ms/step - loss: 1.5956 - accuracy: 0.3288 - val_loss: 1.5884 - val_accuracy: 0.3520\n",
      "Epoch 5/1000\n",
      "760/760 [==============================] - 27s 35ms/step - loss: 1.5698 - accuracy: 0.3500 - val_loss: 1.5494 - val_accuracy: 0.3853\n",
      "Epoch 6/1000\n",
      "760/760 [==============================] - 26s 35ms/step - loss: 1.5456 - accuracy: 0.3673 - val_loss: 1.5542 - val_accuracy: 0.3642\n",
      "Epoch 7/1000\n",
      "760/760 [==============================] - 26s 34ms/step - loss: 1.5221 - accuracy: 0.3830 - val_loss: 1.5017 - val_accuracy: 0.4050\n",
      "Epoch 8/1000\n",
      "760/760 [==============================] - 26s 34ms/step - loss: 1.5017 - accuracy: 0.3922 - val_loss: 1.4978 - val_accuracy: 0.4020\n",
      "Epoch 9/1000\n",
      "760/760 [==============================] - 26s 34ms/step - loss: 1.4892 - accuracy: 0.4001 - val_loss: 1.5229 - val_accuracy: 0.3838\n",
      "Epoch 10/1000\n",
      "760/760 [==============================] - 27s 35ms/step - loss: 1.4790 - accuracy: 0.4052 - val_loss: 1.5271 - val_accuracy: 0.3842\n",
      "Epoch 11/1000\n",
      "760/760 [==============================] - 27s 35ms/step - loss: 1.4722 - accuracy: 0.4046 - val_loss: 1.5025 - val_accuracy: 0.3968\n",
      "Epoch 12/1000\n",
      "760/760 [==============================] - 27s 35ms/step - loss: 1.4627 - accuracy: 0.4099 - val_loss: 1.4911 - val_accuracy: 0.4042\n",
      "Epoch 13/1000\n",
      "642/760 [========================>.....] - ETA: 4s - loss: 1.4580 - accuracy: 0.4112"
     ]
    }
   ],
   "source": [
    "batch_size = 64\n",
    "shapes = ((batch_size, 48, 48), (batch_size, 6))\n",
    "initializer = keras.initializers.GlorotUniform(seed=set_seed)\n",
    "activation =  keras.activations.softmax\n",
    "lr_schedule = keras.optimizers.schedules.ExponentialDecay(initial_learning_rate=1e-5,\n",
    "            decay_steps=24291 // batch_size * 10, decay_rate=0.95)       \n",
    "number_of_classes = 6        \n",
    "\n",
    "inputs = keras.Input(shape=(48, 48, 1))\n",
    "conv1 = keras.layers.Conv2D(128,(3, 3), padding='same', activation='relu')(inputs)\n",
    "do1 = keras.layers.Dropout(0.5, seed=set_seed)(conv1)         \n",
    "conv2 = keras.layers.Conv2D(64,(3, 3), padding='same', activation='relu')(do1)\n",
    "do2 = keras.layers.Dropout(0.5, seed=set_seed)(conv2)         \n",
    "conv3 = keras.layers.Conv2D(32,(3, 3), padding='same', activation='relu')(do2)\n",
    "do3 = keras.layers.Dropout(0.5, seed=set_seed)(conv3)       \n",
    "flatten = keras.layers.Flatten()(do3)    \n",
    "outputs = keras.layers.Dense(number_of_classes, kernel_initializer=initializer, activation=activation)(flatten) \n",
    "model = keras.Model(inputs, outputs)             \n",
    "model.compile(optimizer=keras.optimizers.Adam(learning_rate=lr_schedule),\n",
    "              loss=keras.losses.SparseCategoricalCrossentropy(),\n",
    "              metrics=['accuracy'])\n",
    "\n",
    "es_callback = tf.keras.callbacks.EarlyStopping(patience=10, restore_best_weights=True)\n",
    "history = model.fit(X_train, y_train, validation_data=(X_valid, y_valid),\n",
    "                          epochs=1000, callbacks=[es_callback])"
   ]
  }
 ],
 "metadata": {
  "kernelspec": {
   "display_name": "Python 3 (ipykernel)",
   "language": "python",
   "name": "python3"
  },
  "language_info": {
   "codemirror_mode": {
    "name": "ipython",
    "version": 3
   },
   "file_extension": ".py",
   "mimetype": "text/x-python",
   "name": "python",
   "nbconvert_exporter": "python",
   "pygments_lexer": "ipython3",
   "version": "3.9.7"
  }
 },
 "nbformat": 4,
 "nbformat_minor": 5
}
