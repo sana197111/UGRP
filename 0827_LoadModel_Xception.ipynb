{
 "cells": [
  {
   "cell_type": "code",
   "execution_count": 1,
   "id": "edfd15f8",
   "metadata": {
    "pycharm": {
     "name": "#%%\n"
    },
    "scrolled": true
   },
   "outputs": [],
   "source": [
    "import pandas as pd\n",
    "import numpy as np\n",
    "import os \n",
    "os.environ['TF_ENABLE_ONEDNN_OPTS']='0'\n",
    "os.environ['TF_CPP_MIN_LOG_LEVEL'] = '2'\n",
    "import tensorflow as tf \n",
    "import tensorflow_datasets as tfds\n",
    "from tensorflow import keras\n",
    "import matplotlib.pyplot as plt"
   ]
  },
  {
   "cell_type": "code",
   "execution_count": 2,
   "id": "91bddad8",
   "metadata": {
    "pycharm": {
     "name": "#%%\n"
    }
   },
   "outputs": [],
   "source": [
    "ALL_DATA_DIR = '/media/windows/'\n",
    "training = ALL_DATA_DIR + 'training/'\n",
    "validation = ALL_DATA_DIR + 'validation/'\n",
    "scaled = ALL_DATA_DIR + 'scaled/'\n",
    "scaled_wo_rotate = ALL_DATA_DIR + \"scaled_wo_rotate/\"\n",
    "\n",
    "scaled_wo_rotate_training = scaled_wo_rotate + \"training/\"\n",
    "scaled_wo_rotate_validation = scaled_wo_rotate + \"validation/\"\n",
    "\n",
    "datFile = training + \"shape_predictor_68_face_landmarks.dat\""
   ]
  },
  {
   "cell_type": "code",
   "execution_count": 3,
   "id": "75c83fcb",
   "metadata": {
    "pycharm": {
     "name": "#%%\n"
    }
   },
   "outputs": [],
   "source": [
    "batch_size = 32 \n",
    "img_height = 224\n",
    "img_width = 224 "
   ]
  },
  {
   "cell_type": "code",
   "execution_count": 4,
   "id": "51196fff",
   "metadata": {
    "pycharm": {
     "name": "#%%\n"
    }
   },
   "outputs": [],
   "source": [
    "def preprocess(image, label):\n",
    "    final_image = keras.applications.xception.preprocess_input(image)\n",
    "    return final_image, label"
   ]
  },
  {
   "cell_type": "code",
   "execution_count": 5,
   "id": "3c5f64bd",
   "metadata": {
    "pycharm": {
     "name": "#%%\n"
    },
    "scrolled": false
   },
   "outputs": [
    {
     "name": "stdout",
     "output_type": "stream",
     "text": [
      "Found 50947 files belonging to 7 classes.\n"
     ]
    }
   ],
   "source": [
    "validation_s = tf.keras.utils.image_dataset_from_directory(scaled_wo_rotate_validation, labels = 'inferred',\n",
    "            image_size=(img_height,img_width), batch_size=None, seed=42)"
   ]
  },
  {
   "cell_type": "code",
   "execution_count": 6,
   "id": "2bd9f883",
   "metadata": {
    "pycharm": {
     "name": "#%%\n"
    }
   },
   "outputs": [
    {
     "name": "stdout",
     "output_type": "stream",
     "text": [
      "Found 399839 files belonging to 7 classes.\n"
     ]
    }
   ],
   "source": [
    "training_s = tf.keras.utils.image_dataset_from_directory(scaled_wo_rotate_training, labels = 'inferred',\n",
    "            image_size=(img_height,img_width), batch_size=None, seed=42)"
   ]
  },
  {
   "cell_type": "code",
   "execution_count": 7,
   "id": "304f8864",
   "metadata": {},
   "outputs": [],
   "source": [
    "valid = validation_s.batch(batch_size).prefetch(1)\n",
    "train = training_s.batch(batch_size).prefetch(1)"
   ]
  },
  {
   "cell_type": "code",
   "execution_count": 8,
   "id": "0d4f1243",
   "metadata": {
    "pycharm": {
     "name": "#%%\n"
    }
   },
   "outputs": [],
   "source": [
    "validation_ds = validation_s.map(preprocess).batch(batch_size).prefetch(1)\n",
    "training_ds = training_s.map(preprocess).batch(batch_size).prefetch(1)"
   ]
  },
  {
   "cell_type": "code",
   "execution_count": 8,
   "id": "c30329c7",
   "metadata": {},
   "outputs": [],
   "source": [
    "model = keras.models.load_model('0825_model.h5')"
   ]
  },
  {
   "cell_type": "code",
   "execution_count": 9,
   "id": "3f1c2897",
   "metadata": {},
   "outputs": [
    {
     "name": "stdout",
     "output_type": "stream",
     "text": [
      "1593/1593 [==============================] - 198s 122ms/step - loss: 0.5502 - accuracy: 0.8100\n"
     ]
    },
    {
     "data": {
      "text/plain": [
       "[0.550179660320282, 0.809998631477356]"
      ]
     },
     "execution_count": 9,
     "metadata": {},
     "output_type": "execute_result"
    }
   ],
   "source": [
    "model.evaluate(validation_ds)"
   ]
  },
  {
   "cell_type": "code",
   "execution_count": 10,
   "id": "8d7c9504",
   "metadata": {},
   "outputs": [
    {
     "name": "stdout",
     "output_type": "stream",
     "text": [
      "1/1 [==============================] - 1s 1s/step\n"
     ]
    },
    {
     "data": {
      "text/plain": [
       "array([[0.  , 0.11, 0.  , 0.  , 0.  , 0.88, 0.  ],\n",
       "       [0.  , 0.01, 0.01, 0.  , 0.  , 0.  , 0.97],\n",
       "       [0.  , 0.11, 0.13, 0.  , 0.  , 0.  , 0.75],\n",
       "       [0.  , 0.  , 0.01, 0.  , 0.98, 0.  , 0.  ],\n",
       "       [0.  , 0.  , 0.  , 0.  , 0.99, 0.  , 0.  ],\n",
       "       [0.03, 0.02, 0.18, 0.02, 0.02, 0.  , 0.74],\n",
       "       [0.  , 0.01, 0.21, 0.  , 0.  , 0.  , 0.78],\n",
       "       [0.  , 0.  , 0.06, 0.  , 0.  , 0.  , 0.93],\n",
       "       [1.  , 0.  , 0.  , 0.  , 0.  , 0.  , 0.  ],\n",
       "       [0.89, 0.07, 0.01, 0.  , 0.  , 0.04, 0.  ],\n",
       "       [0.  , 0.01, 0.01, 0.  , 0.95, 0.03, 0.  ],\n",
       "       [0.  , 0.  , 1.  , 0.  , 0.  , 0.  , 0.  ],\n",
       "       [0.  , 0.  , 0.  , 0.01, 0.98, 0.  , 0.  ],\n",
       "       [1.  , 0.  , 0.  , 0.  , 0.  , 0.  , 0.  ],\n",
       "       [0.  , 0.17, 0.03, 0.  , 0.  , 0.8 , 0.  ],\n",
       "       [0.01, 0.34, 0.24, 0.  , 0.  , 0.4 , 0.  ],\n",
       "       [0.  , 0.09, 0.03, 0.  , 0.  , 0.87, 0.  ],\n",
       "       [0.11, 0.16, 0.3 , 0.06, 0.16, 0.06, 0.15],\n",
       "       [0.  , 0.  , 0.  , 1.  , 0.  , 0.  , 0.  ],\n",
       "       [0.  , 0.  , 0.  , 1.  , 0.  , 0.  , 0.  ],\n",
       "       [0.95, 0.  , 0.  , 0.  , 0.  , 0.04, 0.  ],\n",
       "       [0.  , 0.01, 0.02, 0.  , 0.  , 0.  , 0.98],\n",
       "       [0.  , 0.  , 0.01, 0.  , 0.  , 0.  , 0.99],\n",
       "       [0.  , 0.14, 0.02, 0.  , 0.  , 0.84, 0.  ],\n",
       "       [0.28, 0.  , 0.01, 0.  , 0.  , 0.  , 0.7 ],\n",
       "       [0.02, 0.19, 0.04, 0.  , 0.69, 0.05, 0.01],\n",
       "       [0.97, 0.  , 0.  , 0.  , 0.  , 0.  , 0.03],\n",
       "       [0.  , 0.23, 0.05, 0.  , 0.54, 0.17, 0.01],\n",
       "       [0.  , 0.  , 0.  , 0.  , 0.  , 1.  , 0.  ],\n",
       "       [0.  , 0.96, 0.01, 0.  , 0.  , 0.  , 0.03],\n",
       "       [0.  , 0.  , 0.01, 0.01, 0.98, 0.  , 0.  ],\n",
       "       [0.  , 0.  , 0.  , 1.  , 0.  , 0.  , 0.  ]], dtype=float32)"
      ]
     },
     "execution_count": 10,
     "metadata": {},
     "output_type": "execute_result"
    }
   ],
   "source": [
    "np.round(model.predict(validation_ds.take(1)), 2)"
   ]
  },
  {
   "cell_type": "code",
   "execution_count": 11,
   "id": "00620eb2",
   "metadata": {},
   "outputs": [],
   "source": [
    "df = pd.read_csv('0826_err.csv')"
   ]
  },
  {
   "cell_type": "code",
   "execution_count": 73,
   "id": "01030204",
   "metadata": {},
   "outputs": [
    {
     "data": {
      "text/plain": [
       "9689"
      ]
     },
     "execution_count": 73,
     "metadata": {},
     "output_type": "execute_result"
    }
   ],
   "source": [
    "len(df)"
   ]
  },
  {
   "cell_type": "code",
   "execution_count": 80,
   "id": "e81a363a",
   "metadata": {
    "scrolled": true
   },
   "outputs": [],
   "source": [
    "X=[]\n",
    "for i in range(len(df)):\n",
    "    A = df['0'][i]\n",
    "    B = A.replace('[', '')\n",
    "    C = B.split(']')\n",
    "    D = C[0].replace('   ', '00 ')\n",
    "    E = D.replace('  ', '0 ')\n",
    "    F = E.split(' ')\n",
    "    G = F.index(max(F))\n",
    "    H = int(C[1])\n",
    "    I = (G, H)\n",
    "    X.append(I)"
   ]
  },
  {
   "cell_type": "code",
   "execution_count": 89,
   "id": "4c4e660a",
   "metadata": {},
   "outputs": [
    {
     "name": "stdout",
     "output_type": "stream",
     "text": [
      "0 1 262\n",
      "0 2 393\n",
      "0 3 18\n",
      "0 4 96\n",
      "0 5 124\n",
      "0 6 146\n",
      "1 0 243\n",
      "1 2 812\n",
      "1 3 11\n",
      "1 4 279\n",
      "1 5 850\n",
      "1 6 272\n",
      "2 0 304\n",
      "2 1 861\n",
      "2 3 17\n",
      "2 4 175\n",
      "2 5 285\n",
      "2 6 640\n",
      "3 0 38\n",
      "3 1 27\n",
      "3 2 39\n",
      "3 4 91\n",
      "3 5 15\n",
      "3 6 69\n",
      "4 0 93\n",
      "4 1 212\n",
      "4 2 153\n",
      "4 3 26\n",
      "4 5 94\n",
      "4 6 52\n",
      "5 0 168\n",
      "5 1 1032\n",
      "5 2 360\n",
      "5 3 56\n",
      "5 4 89\n",
      "5 6 49\n",
      "6 0 173\n",
      "6 1 265\n",
      "6 2 626\n",
      "6 3 58\n",
      "6 4 84\n",
      "6 5 32\n"
     ]
    }
   ],
   "source": [
    "for i in range(7):\n",
    "    for j in range(7):\n",
    "        if i != j:\n",
    "            print(i,j,X.count((i,j)))"
   ]
  },
  {
   "cell_type": "code",
   "execution_count": 93,
   "id": "7fe5bac1",
   "metadata": {},
   "outputs": [
    {
     "data": {
      "text/plain": [
       "['validation_anger',\n",
       " 'validation_disgust',\n",
       " 'validation_fear',\n",
       " 'validation_happiness',\n",
       " 'validation_neutral',\n",
       " 'validation_sadness',\n",
       " 'validation_surprise']"
      ]
     },
     "execution_count": 93,
     "metadata": {},
     "output_type": "execute_result"
    }
   ],
   "source": [
    "validation_s.class_names"
   ]
  }
 ],
 "metadata": {
  "kernelspec": {
   "display_name": "Python 3 (ipykernel)",
   "language": "python",
   "name": "python3"
  },
  "language_info": {
   "codemirror_mode": {
    "name": "ipython",
    "version": 3
   },
   "file_extension": ".py",
   "mimetype": "text/x-python",
   "name": "python",
   "nbconvert_exporter": "python",
   "pygments_lexer": "ipython3",
   "version": "3.9.5"
  }
 },
 "nbformat": 4,
 "nbformat_minor": 5
}
