{
 "cells": [
  {
   "cell_type": "code",
   "execution_count": 12,
   "id": "f46da487",
   "metadata": {},
   "outputs": [],
   "source": [
    "import numpy as np\n",
    "import pandas as pd\n",
    "import os\n",
    "import pickle\n",
    "import PIL.Image as pilimg\n",
    "import glob"
   ]
  },
  {
   "cell_type": "code",
   "execution_count": null,
   "id": "5bd0e46b",
   "metadata": {},
   "outputs": [],
   "source": [
    "udir='../../media/windows/'\n",
    "rdir=udir+'scaled/scaled_'\n",
    "wdir=udir+'scaled_wo_rotate/'\n",
    "emotions=['happiness','anger','sadness','surprise','fear','disgust']\n",
    "\n",
    "def readwo():\n",
    "    filename = []\n",
    "    filedir = []\n",
    "    for i in range(len(emotions)):\n",
    "        X = []\n",
    "        y = 0\n",
    "        for j in [\"01\", \"02\", \"03\", \"04\"]:\n",
    "            images = glob.glob(wdir+emotions[i]+\"/\"+j+\"/*.jpg\")\n",
    "            for image in images:\n",
    "                with open(image, 'rb') as file:\n",
    "                    img = pilimg.open(file)\n",
    "                    imn = np.array(img).astype('float32')\n",
    "                    X.append(imn)\n",
    "                    y = y+1\n",
    "            print(i, j)\n",
    "        pkfile = emotions[i] + \"_\" + y\n",
    "        pkdir = 'pik/o' + pkfile + '.pki'\n",
    "        filename.append(pkfile)\n",
    "        filedir.append(pkdir)\n",
    "        with open(pkdir, 'wb') as f:\n",
    "            pickle.dump(X, f)\n",
    "    print(filename)\n",
    "    return filedir"
   ]
  },
  {
   "cell_type": "code",
   "execution_count": null,
   "id": "443a0a1a",
   "metadata": {},
   "outputs": [],
   "source": [
    "def reader():\n",
    "    filename = []\n",
    "    for i in range(len(emotions)):\n",
    "        X = []\n",
    "        y = 0\n",
    "        images = glob.glob(udir+emotions[i]+\"/one/*.jpg\")\n",
    "        for image in images:\n",
    "            with open(image, 'rb') as file:\n",
    "                    img = pilimg.open(file)\n",
    "                    imn = np.array(img)\n",
    "                    X.append(imn)\n",
    "                    y = y+1\n",
    "        pkfile = emotions[i] +'_'+ y\n",
    "        pkdir = 'pik/r' + pkfile + '.pki'\n",
    "        filename.append(pkname)\n",
    "        filedir.append(pkdir)\n",
    "        with open(pkdir, 'wb') as f:\n",
    "            pickle.dump(X, f)\n",
    "    print filename\n",
    "    return filedir"
   ]
  },
  {
   "cell_type": "code",
   "execution_count": null,
   "id": "f2b618a5",
   "metadata": {},
   "outputs": [],
   "source": [
    "items = loadall(myfilename)\n",
    "def loadall(filename):\n",
    "    with open(filename, \"rb\") as f:\n",
    "        while True:\n",
    "            try:\n",
    "                yield pickle.load(f)\n",
    "            except EOFError:\n",
    "                break"
   ]
  }
 ],
 "metadata": {
  "kernelspec": {
   "display_name": "Python 3 (ipykernel)",
   "language": "python",
   "name": "python3"
  },
  "language_info": {
   "codemirror_mode": {
    "name": "ipython",
    "version": 3
   },
   "file_extension": ".py",
   "mimetype": "text/x-python",
   "name": "python",
   "nbconvert_exporter": "python",
   "pygments_lexer": "ipython3",
   "version": "3.9.7"
  }
 },
 "nbformat": 4,
 "nbformat_minor": 5
}
