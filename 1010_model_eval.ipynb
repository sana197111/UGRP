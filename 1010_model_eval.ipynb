{
 "cells": [
  {
   "cell_type": "code",
   "execution_count": 1,
   "id": "874d9365",
   "metadata": {},
   "outputs": [],
   "source": [
    "import numpy as np\n",
    "import pandas as pd\n",
    "import matplotlib.pyplot as plt\n",
    "import os\n",
    "os.environ['TF_ENABLE_ONEDNN_OPTS']='0'\n",
    "import tensorflow as tf\n",
    "os.environ['TF_CPP_MIN_LOG_LEVEL'] = '2'\n",
    "from tensorflow import keras"
   ]
  },
  {
   "cell_type": "code",
   "execution_count": 2,
   "id": "bf9764d8",
   "metadata": {},
   "outputs": [],
   "source": [
    "ALL_DATA_DIR = '/media/windows/'\n",
    "\n",
    "aftraining = ALL_DATA_DIR + 'AffectNet_train_set/seven/'\n",
    "afvalidation = ALL_DATA_DIR + 'AffectNet_val_set/seven/'\n",
    "\n",
    "training = ALL_DATA_DIR + 'training/'\n",
    "validation = ALL_DATA_DIR + 'validation/'\n",
    "scaled = ALL_DATA_DIR + 'scaled/'\n",
    "scaled_wo_rotate = ALL_DATA_DIR + \"scaled_wo_rotate/\"\n",
    "\n",
    "scaled_wo_rotate_training = scaled_wo_rotate + \"training/\"\n",
    "scaled_wo_rotate_validation = scaled_wo_rotate + \"validation/\""
   ]
  },
  {
   "cell_type": "code",
   "execution_count": 3,
   "id": "a3ebafa9",
   "metadata": {},
   "outputs": [],
   "source": [
    "batch_size = 32 \n",
    "img_height = 224\n",
    "img_width = 224 "
   ]
  },
  {
   "cell_type": "code",
   "execution_count": 4,
   "id": "74be57c5",
   "metadata": {
    "pycharm": {
     "name": "#%%\n"
    },
    "scrolled": false
   },
   "outputs": [
    {
     "name": "stdout",
     "output_type": "stream",
     "text": [
      "Found 50947 files belonging to 7 classes.\n"
     ]
    }
   ],
   "source": [
    "validation_d = tf.keras.utils.image_dataset_from_directory(scaled_wo_rotate_validation, labels = 'inferred', \n",
    "            image_size=(img_height,img_width), batch_size=None, seed=42)"
   ]
  },
  {
   "cell_type": "code",
   "execution_count": 6,
   "id": "2bd9f883",
   "metadata": {
    "pycharm": {
     "name": "#%%\n"
    },
    "scrolled": false
   },
   "outputs": [
    {
     "name": "stdout",
     "output_type": "stream",
     "text": [
      "Found 399839 files belonging to 7 classes.\n"
     ]
    }
   ],
   "source": [
    "training_d = tf.keras.utils.image_dataset_from_directory(scaled_wo_rotate_training, labels = 'inferred',\n",
    "            image_size=(img_height,img_width), batch_size=None, seed=42)"
   ]
  },
  {
   "cell_type": "code",
   "execution_count": 5,
   "id": "e8c43d7a",
   "metadata": {},
   "outputs": [
    {
     "name": "stdout",
     "output_type": "stream",
     "text": [
      "Found 3500 files belonging to 7 classes.\n"
     ]
    }
   ],
   "source": [
    "validation_p = tf.keras.utils.image_dataset_from_directory(afvalidation, labels = 'inferred', \n",
    "            image_size=(img_height,img_width), batch_size=None, seed=42)"
   ]
  },
  {
   "cell_type": "code",
   "execution_count": 7,
   "id": "ac9e727e",
   "metadata": {},
   "outputs": [
    {
     "name": "stdout",
     "output_type": "stream",
     "text": [
      "Found 283901 files belonging to 7 classes.\n"
     ]
    }
   ],
   "source": [
    "training_p = tf.keras.utils.image_dataset_from_directory(aftraining, labels = 'inferred', \n",
    "            image_size=(img_height,img_width), batch_size=None, seed=42)"
   ]
  },
  {
   "cell_type": "code",
   "execution_count": 8,
   "id": "739c142b",
   "metadata": {},
   "outputs": [],
   "source": [
    "def preprocess(image, label):\n",
    "    final_image = keras.applications.xception.preprocess_input(image)\n",
    "    return final_image, label"
   ]
  },
  {
   "cell_type": "code",
   "execution_count": 9,
   "id": "5e5c55da",
   "metadata": {
    "scrolled": false
   },
   "outputs": [],
   "source": [
    "training_ds = training_d.map(preprocess).batch(batch_size).prefetch(1)\n",
    "validation_ds = validation_d.map(preprocess).batch(batch_size).prefetch(1)"
   ]
  },
  {
   "cell_type": "code",
   "execution_count": 10,
   "id": "4bf3f9a1",
   "metadata": {},
   "outputs": [],
   "source": [
    "training_ps = training_p.map(preprocess).batch(batch_size).prefetch(1)\n",
    "validation_ps = validation_p.map(preprocess).batch(batch_size).prefetch(1)"
   ]
  },
  {
   "cell_type": "code",
   "execution_count": 11,
   "id": "17a89e21",
   "metadata": {
    "scrolled": false
   },
   "outputs": [
    {
     "name": "stdout",
     "output_type": "stream",
     "text": [
      "Found 399839 files belonging to 7 classes.\n",
      "Found 50947 files belonging to 7 classes.\n"
     ]
    }
   ],
   "source": [
    "training_s = tf.keras.utils.image_dataset_from_directory(scaled_wo_rotate_training, labels = 'inferred',\n",
    "            image_size=(img_height,img_width), batch_size=batch_size, seed=42).prefetch(1)\n",
    "validation_s = tf.keras.utils.image_dataset_from_directory(scaled_wo_rotate_validation, labels = 'inferred', \n",
    "            image_size=(img_height,img_width), batch_size=batch_size, seed=42).prefetch(1)"
   ]
  },
  {
   "cell_type": "code",
   "execution_count": 12,
   "id": "a25cc089",
   "metadata": {},
   "outputs": [
    {
     "name": "stdout",
     "output_type": "stream",
     "text": [
      "Found 283901 files belonging to 7 classes.\n",
      "Found 3500 files belonging to 7 classes.\n"
     ]
    }
   ],
   "source": [
    "training_f = tf.keras.utils.image_dataset_from_directory(aftraining, labels = 'inferred',\n",
    "            image_size=(img_height,img_width), batch_size=batch_size, seed=42).prefetch(1)\n",
    "validation_f = tf.keras.utils.image_dataset_from_directory(afvalidation, labels = 'inferred', \n",
    "            image_size=(img_height,img_width), batch_size=batch_size, seed=42).prefetch(1)"
   ]
  },
  {
   "cell_type": "code",
   "execution_count": 13,
   "id": "73b8aea5",
   "metadata": {},
   "outputs": [],
   "source": [
    "model_1 = keras.models.load_model('0825_model.h5')"
   ]
  },
  {
   "cell_type": "code",
   "execution_count": 14,
   "id": "8b8819e0",
   "metadata": {},
   "outputs": [],
   "source": [
    "model_2 = keras.models.load_model('0901_mobilenet.h5')"
   ]
  },
  {
   "cell_type": "code",
   "execution_count": 15,
   "id": "ba5d7e87",
   "metadata": {},
   "outputs": [],
   "source": [
    "model_3 = keras.models.load_model('0906_EffiB4.h5')"
   ]
  },
  {
   "cell_type": "code",
   "execution_count": 16,
   "id": "ff77d59c",
   "metadata": {},
   "outputs": [],
   "source": [
    "model_4 = keras.models.load_model('0920_Affect_Xception_eval.h5')"
   ]
  },
  {
   "cell_type": "code",
   "execution_count": 17,
   "id": "fa01a59f",
   "metadata": {},
   "outputs": [],
   "source": [
    "model_5 = keras.models.load_model('0926_mobile_affect_eval.h5')"
   ]
  },
  {
   "cell_type": "code",
   "execution_count": 18,
   "id": "7478938e",
   "metadata": {},
   "outputs": [],
   "source": [
    "model_6 = keras.models.load_model('0919_Affect_B4_eval.h5')"
   ]
  },
  {
   "cell_type": "code",
   "execution_count": 19,
   "id": "0a0ec786",
   "metadata": {},
   "outputs": [
    {
     "name": "stdout",
     "output_type": "stream",
     "text": [
      "110/110 [==============================] - 22s 131ms/step - loss: 2.1869 - accuracy: 0.3471\n"
     ]
    },
    {
     "data": {
      "text/plain": [
       "[2.1868834495544434, 0.3471428453922272]"
      ]
     },
     "execution_count": 19,
     "metadata": {},
     "output_type": "execute_result"
    }
   ],
   "source": [
    "model_1.evaluate(validation_ps)"
   ]
  },
  {
   "cell_type": "code",
   "execution_count": 20,
   "id": "9899f6f6",
   "metadata": {
    "scrolled": true
   },
   "outputs": [
    {
     "name": "stdout",
     "output_type": "stream",
     "text": [
      "8872/8872 [==============================] - 1423s 160ms/step - loss: 2.0048 - accuracy: 0.4366\n"
     ]
    },
    {
     "data": {
      "text/plain": [
       "[2.0048253536224365, 0.43655359745025635]"
      ]
     },
     "execution_count": 20,
     "metadata": {},
     "output_type": "execute_result"
    }
   ],
   "source": [
    "model_1.evaluate(training_ps)"
   ]
  },
  {
   "cell_type": "code",
   "execution_count": 21,
   "id": "c95e8c02",
   "metadata": {},
   "outputs": [
    {
     "name": "stdout",
     "output_type": "stream",
     "text": [
      "110/110 [==============================] - 4s 25ms/step - loss: 2.3528 - accuracy: 0.3437\n"
     ]
    },
    {
     "data": {
      "text/plain": [
       "[2.352799892425537, 0.34371429681777954]"
      ]
     },
     "execution_count": 21,
     "metadata": {},
     "output_type": "execute_result"
    }
   ],
   "source": [
    "model_2.evaluate(validation_f)"
   ]
  },
  {
   "cell_type": "code",
   "execution_count": 22,
   "id": "0e4b2e47",
   "metadata": {},
   "outputs": [
    {
     "name": "stdout",
     "output_type": "stream",
     "text": [
      "8872/8872 [==============================] - 219s 25ms/step - loss: 2.1453 - accuracy: 0.4570\n"
     ]
    },
    {
     "data": {
      "text/plain": [
       "[2.1452765464782715, 0.45700085163116455]"
      ]
     },
     "execution_count": 22,
     "metadata": {},
     "output_type": "execute_result"
    }
   ],
   "source": [
    "model_2.evaluate(training_f)"
   ]
  },
  {
   "cell_type": "code",
   "execution_count": 23,
   "id": "78815e7f",
   "metadata": {},
   "outputs": [
    {
     "name": "stdout",
     "output_type": "stream",
     "text": [
      "110/110 [==============================] - 20s 153ms/step - loss: 2.1475 - accuracy: 0.3480\n"
     ]
    },
    {
     "data": {
      "text/plain": [
       "[2.1474521160125732, 0.3479999899864197]"
      ]
     },
     "execution_count": 23,
     "metadata": {},
     "output_type": "execute_result"
    }
   ],
   "source": [
    "model_3.evaluate(validation_f)"
   ]
  },
  {
   "cell_type": "code",
   "execution_count": 24,
   "id": "2d29d418",
   "metadata": {},
   "outputs": [
    {
     "name": "stdout",
     "output_type": "stream",
     "text": [
      "8872/8872 [==============================] - 1314s 148ms/step - loss: 1.9895 - accuracy: 0.4474\n"
     ]
    },
    {
     "data": {
      "text/plain": [
       "[1.9895200729370117, 0.44736015796661377]"
      ]
     },
     "execution_count": 24,
     "metadata": {},
     "output_type": "execute_result"
    }
   ],
   "source": [
    "model_3.evaluate(training_f)"
   ]
  },
  {
   "cell_type": "code",
   "execution_count": 25,
   "id": "173ee411",
   "metadata": {
    "scrolled": true
   },
   "outputs": [
    {
     "name": "stdout",
     "output_type": "stream",
     "text": [
      "1593/1593 [==============================] - 259s 162ms/step - loss: 1.8908 - accuracy: 0.4632\n"
     ]
    },
    {
     "data": {
      "text/plain": [
       "[1.8908398151397705, 0.46318724751472473]"
      ]
     },
     "execution_count": 25,
     "metadata": {},
     "output_type": "execute_result"
    }
   ],
   "source": [
    "model_4.evaluate(validation_ds)"
   ]
  },
  {
   "cell_type": "code",
   "execution_count": 26,
   "id": "68a29990",
   "metadata": {},
   "outputs": [
    {
     "name": "stdout",
     "output_type": "stream",
     "text": [
      "12495/12495 [==============================] - 2023s 162ms/step - loss: 1.9117 - accuracy: 0.4564\n"
     ]
    },
    {
     "data": {
      "text/plain": [
       "[1.9116607904434204, 0.45639118552207947]"
      ]
     },
     "execution_count": 26,
     "metadata": {},
     "output_type": "execute_result"
    }
   ],
   "source": [
    "model_4.evaluate(training_ds)"
   ]
  },
  {
   "cell_type": "code",
   "execution_count": 27,
   "id": "dbdd0112",
   "metadata": {},
   "outputs": [
    {
     "name": "stdout",
     "output_type": "stream",
     "text": [
      "1593/1593 [==============================] - 47s 29ms/step - loss: 2.4867 - accuracy: 0.4311\n"
     ]
    },
    {
     "data": {
      "text/plain": [
       "[2.4866740703582764, 0.43111467361450195]"
      ]
     },
     "execution_count": 27,
     "metadata": {},
     "output_type": "execute_result"
    }
   ],
   "source": [
    "model_5.evaluate(validation_s)"
   ]
  },
  {
   "cell_type": "code",
   "execution_count": 28,
   "id": "6d4445da",
   "metadata": {},
   "outputs": [
    {
     "name": "stdout",
     "output_type": "stream",
     "text": [
      "12495/12495 [==============================] - 352s 28ms/step - loss: 2.5235 - accuracy: 0.4219\n"
     ]
    },
    {
     "data": {
      "text/plain": [
       "[2.5235424041748047, 0.4218797981739044]"
      ]
     },
     "execution_count": 28,
     "metadata": {},
     "output_type": "execute_result"
    }
   ],
   "source": [
    "model_5.evaluate(training_s)"
   ]
  },
  {
   "cell_type": "code",
   "execution_count": 29,
   "id": "3f2b31ea",
   "metadata": {},
   "outputs": [
    {
     "name": "stdout",
     "output_type": "stream",
     "text": [
      "1593/1593 [==============================] - 239s 148ms/step - loss: 1.9183 - accuracy: 0.4820\n"
     ]
    },
    {
     "data": {
      "text/plain": [
       "[1.9182629585266113, 0.48197147250175476]"
      ]
     },
     "execution_count": 29,
     "metadata": {},
     "output_type": "execute_result"
    }
   ],
   "source": [
    "model_6.evaluate(validation_s)"
   ]
  },
  {
   "cell_type": "code",
   "execution_count": 30,
   "id": "d6a44363",
   "metadata": {},
   "outputs": [
    {
     "name": "stdout",
     "output_type": "stream",
     "text": [
      "12495/12495 [==============================] - 1854s 148ms/step - loss: 1.9393 - accuracy: 0.4752\n"
     ]
    },
    {
     "data": {
      "text/plain": [
       "[1.939310073852539, 0.47516125440597534]"
      ]
     },
     "execution_count": 30,
     "metadata": {},
     "output_type": "execute_result"
    }
   ],
   "source": [
    "model_6.evaluate(training_s)"
   ]
  }
 ],
 "metadata": {
  "kernelspec": {
   "display_name": "Python 3 (ipykernel)",
   "language": "python",
   "name": "python3"
  },
  "language_info": {
   "codemirror_mode": {
    "name": "ipython",
    "version": 3
   },
   "file_extension": ".py",
   "mimetype": "text/x-python",
   "name": "python",
   "nbconvert_exporter": "python",
   "pygments_lexer": "ipython3",
   "version": "3.9.5"
  }
 },
 "nbformat": 4,
 "nbformat_minor": 5
}
