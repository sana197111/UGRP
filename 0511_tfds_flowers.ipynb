{
 "cells": [
  {
   "cell_type": "code",
   "execution_count": 1,
   "id": "70a57abd",
   "metadata": {},
   "outputs": [],
   "source": [
    "import tensorflow as tf\n",
    "import numpy as np\n",
    "import pandas as pd\n",
    "import matplotlib.pyplot as plt\n",
    "import os\n",
    "import tensorflow_datasets as tfds\n",
    "from tensorflow import keras"
   ]
  },
  {
   "cell_type": "code",
   "execution_count": 2,
   "id": "9e0173a3",
   "metadata": {},
   "outputs": [],
   "source": [
    "root_logdir = os.path.join(os.curdir, \"my_tb_logs\")\n",
    "\n",
    "def get_run_logdir():\n",
    "    import time\n",
    "    run_id = time.strftime(\"run_%Y_%m_%d_%H_%M_%S\")\n",
    "    return os.path.join(root_logdir, run_id)\n",
    "\n",
    "run_logdir = get_run_logdir()"
   ]
  },
  {
   "cell_type": "code",
   "execution_count": 3,
   "id": "5ecf6364",
   "metadata": {},
   "outputs": [],
   "source": [
    "dataset, info = tfds.load(\"tf_flowers\", as_supervised=True, with_info=True)\n",
    "dataset_size = info.splits[\"train\"].num_examples\n",
    "class_names = info.features[\"label\"].names\n",
    "n_classes = info.features[\"label\"].num_classes"
   ]
  },
  {
   "cell_type": "code",
   "execution_count": 4,
   "id": "bb504d1c",
   "metadata": {},
   "outputs": [],
   "source": [
    "test_set_raw, valid_set_raw, train_set_raw = tfds.load(\n",
    "    \"tf_flowers\",\n",
    "    split=[\"train[:10%]\", \"train[10%:25%]\", \"train[25%:]\"],\n",
    "    as_supervised=True)"
   ]
  },
  {
   "cell_type": "code",
   "execution_count": 5,
   "id": "8d7e4cad",
   "metadata": {},
   "outputs": [],
   "source": [
    "from functools import partial"
   ]
  },
  {
   "cell_type": "code",
   "execution_count": 6,
   "id": "4369d17a",
   "metadata": {
    "scrolled": true
   },
   "outputs": [],
   "source": [
    "def central_crop(image):\n",
    "    shape = tf.shape(image)\n",
    "    min_dim = tf.reduce_min([shape[0], shape[1]])\n",
    "    top_crop = (shape[0] - min_dim) // 4\n",
    "    bottom_crop = shape[0] - top_crop\n",
    "    left_crop = (shape[1] - min_dim) // 4\n",
    "    right_crop = shape[1] - left_crop\n",
    "    return image[top_crop:bottom_crop, left_crop:right_crop]\n",
    "\n",
    "def random_crop(image):\n",
    "    shape = tf.shape(image)\n",
    "    min_dim = tf.reduce_min([shape[0], shape[1]]) * 90 // 100\n",
    "    return tf.image.random_crop(image, [min_dim, min_dim, 3])\n",
    "\n",
    "def preprocess(image, label, randomize=False):\n",
    "    if randomize:\n",
    "        cropped_image = random_crop(image)\n",
    "        cropped_image = tf.image.random_flip_left_right(cropped_image)\n",
    "    else:\n",
    "        cropped_image = central_crop(image)\n",
    "    resized_image = tf.image.resize(cropped_image, [224, 224])\n",
    "    final_image = keras.applications.xception.preprocess_input(resized_image)\n",
    "    return final_image, label\n",
    "\n",
    "batch_size = 8\n",
    "train_set = train_set_raw.shuffle(1000).repeat()\n",
    "train_set = train_set.map(partial(preprocess, randomize=True)).batch(batch_size).prefetch(1)\n",
    "valid_set = valid_set_raw.map(preprocess).batch(batch_size).prefetch(1)\n",
    "test_set = test_set_raw.map(preprocess).batch(batch_size).prefetch(1)"
   ]
  },
  {
   "cell_type": "code",
   "execution_count": 7,
   "id": "518ddf7b",
   "metadata": {},
   "outputs": [],
   "source": [
    "base_model = keras.applications.xception.Xception(weights=\"imagenet\", include_top=False)\n",
    "avg = keras.layers.GlobalAveragePooling2D()(base_model.output)\n",
    "output = keras.layers.Dense(n_classes, activation=\"softmax\")(avg)\n",
    "model = keras.models.Model(inputs=base_model.input, outputs=output)"
   ]
  },
  {
   "cell_type": "code",
   "execution_count": 8,
   "id": "842002bf",
   "metadata": {},
   "outputs": [],
   "source": [
    "for layer in base_model.layers:\n",
    "    layer.trainable = False\n",
    "optimizer = keras.optimizers.SGD(learning_rate=0.2, momentum=0.9, decay=0.01)\n",
    "model.compile(loss=\"sparse_categorical_crossentropy\", optimizer=optimizer,\n",
    "              metrics=[\"accuracy\"])"
   ]
  },
  {
   "cell_type": "code",
   "execution_count": 9,
   "id": "906324bc",
   "metadata": {},
   "outputs": [],
   "source": [
    "tensorboard_cb = keras.callbacks.TensorBoard(run_logdir)"
   ]
  },
  {
   "cell_type": "code",
   "execution_count": 10,
   "id": "93973dab",
   "metadata": {
    "scrolled": false
   },
   "outputs": [
    {
     "name": "stdout",
     "output_type": "stream",
     "text": [
      "Epoch 1/5\n",
      "344/344 [==============================] - 31s 75ms/step - loss: 3.4713 - accuracy: 0.8129 - val_loss: 2.5569 - val_accuracy: 0.8309\n",
      "Epoch 2/5\n",
      "344/344 [==============================] - 25s 74ms/step - loss: 1.0149 - accuracy: 0.9092 - val_loss: 2.0090 - val_accuracy: 0.8401\n",
      "Epoch 3/5\n",
      "344/344 [==============================] - 26s 74ms/step - loss: 0.6761 - accuracy: 0.9190 - val_loss: 1.6326 - val_accuracy: 0.8566\n",
      "Epoch 4/5\n",
      "344/344 [==============================] - 26s 75ms/step - loss: 0.5602 - accuracy: 0.9288 - val_loss: 1.4881 - val_accuracy: 0.8566\n",
      "Epoch 5/5\n",
      "344/344 [==============================] - 26s 75ms/step - loss: 0.3476 - accuracy: 0.9415 - val_loss: 1.4506 - val_accuracy: 0.8658\n"
     ]
    }
   ],
   "source": [
    "history = model.fit(train_set, steps_per_epoch=int(0.75 * dataset_size / batch_size), validation_data=valid_set,\n",
    "                    validation_steps=int(0.15 * dataset_size / batch_size), epochs=5)"
   ]
  },
  {
   "cell_type": "code",
   "execution_count": 11,
   "id": "5e2b331b",
   "metadata": {},
   "outputs": [
    {
     "data": {
      "text/plain": [
       "{'current': 94383616, 'peak': 1883904768}"
      ]
     },
     "execution_count": 11,
     "metadata": {},
     "output_type": "execute_result"
    }
   ],
   "source": [
    "tf.config.experimental.get_memory_info('GPU:0')"
   ]
  },
  {
   "cell_type": "code",
   "execution_count": 12,
   "id": "1ba6133c",
   "metadata": {
    "scrolled": true
   },
   "outputs": [
    {
     "name": "stdout",
     "output_type": "stream",
     "text": [
      "Epoch 1/5\n",
      "344/344 [==============================] - 107s 298ms/step - loss: 1.1120 - accuracy: 0.5763 - val_loss: 0.8526 - val_accuracy: 0.6415\n",
      "Epoch 2/5\n",
      "344/344 [==============================] - 103s 299ms/step - loss: 0.5795 - accuracy: 0.7889 - val_loss: 0.4080 - val_accuracy: 0.8695\n",
      "Epoch 3/5\n",
      "344/344 [==============================] - 104s 301ms/step - loss: 0.3867 - accuracy: 0.8659 - val_loss: 0.3235 - val_accuracy: 0.8824\n",
      "Epoch 4/5\n",
      "344/344 [==============================] - 104s 303ms/step - loss: 0.2962 - accuracy: 0.8968 - val_loss: 0.3068 - val_accuracy: 0.9007\n",
      "Epoch 5/5\n",
      "344/344 [==============================] - 104s 304ms/step - loss: 0.2106 - accuracy: 0.9291 - val_loss: 0.4630 - val_accuracy: 0.8713\n"
     ]
    }
   ],
   "source": [
    "for layer in base_model.layers:\n",
    "    layer.trainable=True\n",
    "optimizer = keras.optimizers.SGD(learning_rate=0.01, momentum=0.9,\n",
    "                                 nesterov=True, decay=0.001)\n",
    "model.compile(loss=\"sparse_categorical_crossentropy\", optimizer=optimizer,\n",
    "              metrics=[\"accuracy\"])\n",
    "history = model.fit(train_set, steps_per_epoch=int(0.75 * dataset_size / batch_size), validation_data=valid_set,\n",
    "                    validation_steps=int(0.15 * dataset_size / batch_size), epochs=5, callbacks=[tensorboard_cb])"
   ]
  },
  {
   "cell_type": "code",
   "execution_count": 13,
   "id": "a8fee9ef",
   "metadata": {},
   "outputs": [
    {
     "name": "stdout",
     "output_type": "stream",
     "text": [
      "Epoch 1/35\n",
      "344/344 [==============================] - 104s 302ms/step - loss: 0.1682 - accuracy: 0.9459 - val_loss: 0.3718 - val_accuracy: 0.9173\n",
      "Epoch 2/35\n",
      "344/344 [==============================] - 104s 304ms/step - loss: 0.1252 - accuracy: 0.9575 - val_loss: 0.3166 - val_accuracy: 0.9044\n",
      "Epoch 3/35\n",
      "344/344 [==============================] - 105s 305ms/step - loss: 0.1077 - accuracy: 0.9637 - val_loss: 0.4484 - val_accuracy: 0.8952\n",
      "Epoch 4/35\n",
      "344/344 [==============================] - 105s 305ms/step - loss: 0.0964 - accuracy: 0.9637 - val_loss: 0.3321 - val_accuracy: 0.9154\n",
      "Epoch 5/35\n",
      "344/344 [==============================] - 105s 307ms/step - loss: 0.0791 - accuracy: 0.9720 - val_loss: 0.4220 - val_accuracy: 0.9191\n",
      "Epoch 6/35\n",
      "344/344 [==============================] - 105s 306ms/step - loss: 0.0683 - accuracy: 0.9738 - val_loss: 0.3441 - val_accuracy: 0.9136\n",
      "Epoch 7/35\n",
      "344/344 [==============================] - 106s 307ms/step - loss: 0.0593 - accuracy: 0.9797 - val_loss: 0.3575 - val_accuracy: 0.9026\n",
      "Epoch 8/35\n",
      "344/344 [==============================] - 106s 309ms/step - loss: 0.0547 - accuracy: 0.9818 - val_loss: 0.4413 - val_accuracy: 0.9154\n",
      "Epoch 9/35\n",
      "344/344 [==============================] - 106s 307ms/step - loss: 0.0493 - accuracy: 0.9855 - val_loss: 0.3059 - val_accuracy: 0.9283\n",
      "Epoch 10/35\n",
      "344/344 [==============================] - 106s 309ms/step - loss: 0.0389 - accuracy: 0.9866 - val_loss: 0.3915 - val_accuracy: 0.9191\n",
      "Epoch 11/35\n",
      "344/344 [==============================] - 107s 310ms/step - loss: 0.0495 - accuracy: 0.9833 - val_loss: 0.2836 - val_accuracy: 0.9136\n",
      "Epoch 12/35\n",
      "344/344 [==============================] - 107s 310ms/step - loss: 0.0308 - accuracy: 0.9913 - val_loss: 0.3342 - val_accuracy: 0.9210\n",
      "Epoch 13/35\n",
      "344/344 [==============================] - 107s 310ms/step - loss: 0.0501 - accuracy: 0.9833 - val_loss: 0.3432 - val_accuracy: 0.9136\n",
      "Epoch 14/35\n",
      "344/344 [==============================] - 106s 309ms/step - loss: 0.0357 - accuracy: 0.9884 - val_loss: 0.3071 - val_accuracy: 0.9228\n",
      "Epoch 15/35\n",
      "344/344 [==============================] - 107s 310ms/step - loss: 0.0279 - accuracy: 0.9906 - val_loss: 0.3465 - val_accuracy: 0.9191\n",
      "Epoch 16/35\n",
      "344/344 [==============================] - 106s 309ms/step - loss: 0.0226 - accuracy: 0.9945 - val_loss: 0.3255 - val_accuracy: 0.9173\n",
      "Epoch 17/35\n",
      "344/344 [==============================] - 106s 309ms/step - loss: 0.0192 - accuracy: 0.9924 - val_loss: 0.3562 - val_accuracy: 0.9191\n",
      "Epoch 18/35\n",
      "344/344 [==============================] - 106s 309ms/step - loss: 0.0198 - accuracy: 0.9927 - val_loss: 0.3308 - val_accuracy: 0.9265\n",
      "Epoch 19/35\n",
      "344/344 [==============================] - 106s 309ms/step - loss: 0.0200 - accuracy: 0.9938 - val_loss: 0.3222 - val_accuracy: 0.9228\n",
      "Epoch 20/35\n",
      "344/344 [==============================] - 106s 309ms/step - loss: 0.0258 - accuracy: 0.9927 - val_loss: 0.3471 - val_accuracy: 0.9301\n",
      "Epoch 21/35\n",
      "344/344 [==============================] - 106s 310ms/step - loss: 0.0184 - accuracy: 0.9938 - val_loss: 0.3632 - val_accuracy: 0.9210\n"
     ]
    }
   ],
   "source": [
    "early_stopping_cb = keras.callbacks.EarlyStopping(patience=10)\n",
    "history = model.fit(train_set, steps_per_epoch=int(0.75 * dataset_size / batch_size), validation_data=valid_set,\n",
    "                    validation_steps=int(0.15 * dataset_size / batch_size), epochs=35, callbacks=[tensorboard_cb, early_stopping_cb])"
   ]
  },
  {
   "cell_type": "code",
   "execution_count": 14,
   "id": "4922f56d",
   "metadata": {},
   "outputs": [
    {
     "name": "stdout",
     "output_type": "stream",
     "text": [
      "46/46 [==============================] - 4s 75ms/step - loss: 0.2736 - accuracy: 0.9346\n"
     ]
    },
    {
     "data": {
      "text/plain": [
       "[0.2735663950443268, 0.9346048831939697]"
      ]
     },
     "execution_count": 14,
     "metadata": {},
     "output_type": "execute_result"
    }
   ],
   "source": [
    "model.evaluate(test_set)"
   ]
  },
  {
   "cell_type": "code",
   "execution_count": 15,
   "id": "227ce15e",
   "metadata": {},
   "outputs": [
    {
     "data": {
      "text/plain": [
       "{'current': 177926400, 'peak': 1883904768}"
      ]
     },
     "execution_count": 15,
     "metadata": {},
     "output_type": "execute_result"
    }
   ],
   "source": [
    "tf.config.experimental.get_memory_info('GPU:0')"
   ]
  }
 ],
 "metadata": {
  "kernelspec": {
   "display_name": "Python 3 (ipykernel)",
   "language": "python",
   "name": "python3"
  },
  "language_info": {
   "codemirror_mode": {
    "name": "ipython",
    "version": 3
   },
   "file_extension": ".py",
   "mimetype": "text/x-python",
   "name": "python",
   "nbconvert_exporter": "python",
   "pygments_lexer": "ipython3",
   "version": "3.9.7"
  }
 },
 "nbformat": 4,
 "nbformat_minor": 5
}
