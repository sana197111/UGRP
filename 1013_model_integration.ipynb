{
 "cells": [
  {
   "cell_type": "code",
   "execution_count": 1,
   "id": "874d9365",
   "metadata": {},
   "outputs": [],
   "source": [
    "import numpy as np\n",
    "import pandas as pd\n",
    "import matplotlib.pyplot as plt\n",
    "import os\n",
    "os.environ['TF_ENABLE_ONEDNN_OPTS']='0'\n",
    "import tensorflow as tf\n",
    "os.environ['TF_CPP_MIN_LOG_LEVEL'] = '2'\n",
    "from tensorflow import keras"
   ]
  },
  {
   "cell_type": "code",
   "execution_count": 2,
   "id": "bf9764d8",
   "metadata": {},
   "outputs": [],
   "source": [
    "ALL_DATA_DIR = '/media/windows/'\n",
    "\n",
    "aftraining = ALL_DATA_DIR + 'AffectNet_train_set/seven/'\n",
    "afvalidation = ALL_DATA_DIR + 'AffectNet_val_set/seven/'\n",
    "scaled_wo_rotate = ALL_DATA_DIR + \"scaled_wo_rotate/\"\n",
    "scaled_wo_rotate_training = scaled_wo_rotate + \"training/\"\n",
    "scaled_wo_rotate_validation = scaled_wo_rotate + \"validation/\""
   ]
  },
  {
   "cell_type": "code",
   "execution_count": 3,
   "id": "a3ebafa9",
   "metadata": {},
   "outputs": [],
   "source": [
    "batch_size = 32 \n",
    "img_height = 224\n",
    "img_width = 224 "
   ]
  },
  {
   "cell_type": "code",
   "execution_count": 4,
   "id": "74be57c5",
   "metadata": {
    "pycharm": {
     "name": "#%%\n"
    },
    "scrolled": false
   },
   "outputs": [
    {
     "name": "stdout",
     "output_type": "stream",
     "text": [
      "Found 50947 files belonging to 7 classes.\n"
     ]
    }
   ],
   "source": [
    "v1 = tf.keras.utils.image_dataset_from_directory(scaled_wo_rotate_validation, labels = 'inferred', \n",
    "            image_size=(img_height,img_width), batch_size=None, seed=42)"
   ]
  },
  {
   "cell_type": "code",
   "execution_count": 5,
   "id": "2bd9f883",
   "metadata": {
    "pycharm": {
     "name": "#%%\n"
    },
    "scrolled": false
   },
   "outputs": [
    {
     "name": "stdout",
     "output_type": "stream",
     "text": [
      "Found 399839 files belonging to 7 classes.\n"
     ]
    }
   ],
   "source": [
    "t1 = tf.keras.utils.image_dataset_from_directory(scaled_wo_rotate_training, labels = 'inferred',\n",
    "            image_size=(img_height,img_width), batch_size=None, seed=42)"
   ]
  },
  {
   "cell_type": "code",
   "execution_count": 6,
   "id": "e8c43d7a",
   "metadata": {
    "scrolled": true
   },
   "outputs": [
    {
     "name": "stdout",
     "output_type": "stream",
     "text": [
      "Found 3500 files belonging to 7 classes.\n"
     ]
    }
   ],
   "source": [
    "v2 = tf.keras.utils.image_dataset_from_directory(afvalidation, labels = 'inferred', \n",
    "            image_size=(img_height,img_width), batch_size=None, seed=42)"
   ]
  },
  {
   "cell_type": "code",
   "execution_count": 7,
   "id": "ac9e727e",
   "metadata": {},
   "outputs": [
    {
     "name": "stdout",
     "output_type": "stream",
     "text": [
      "Found 283901 files belonging to 7 classes.\n"
     ]
    }
   ],
   "source": [
    "t2 = tf.keras.utils.image_dataset_from_directory(aftraining, labels = 'inferred', \n",
    "            image_size=(img_height,img_width), batch_size=None, see=42)"
   ]
  },
  {
   "cell_type": "code",
   "execution_count": 8,
   "id": "c27b5363",
   "metadata": {},
   "outputs": [],
   "source": [
    "d1 = t1.concatenate(v1)\n",
    "d2 = t2.concatenate(v2)"
   ]
  },
  {
   "cell_type": "code",
   "execution_count": 9,
   "id": "d016e9c1",
   "metadata": {},
   "outputs": [],
   "source": [
    "ds = d1.concatenate(d2)"
   ]
  },
  {
   "cell_type": "code",
   "execution_count": 10,
   "id": "d171df5b",
   "metadata": {},
   "outputs": [],
   "source": [
    "dsd = ds.shuffle(ds.__len__(), seed=42, reshuffle_each_iteration=False)"
   ]
  },
  {
   "cell_type": "code",
   "execution_count": 11,
   "id": "fba606d4",
   "metadata": {},
   "outputs": [],
   "source": [
    "datasize = dsd.__len__().numpy()"
   ]
  },
  {
   "cell_type": "code",
   "execution_count": 12,
   "id": "7676399f",
   "metadata": {},
   "outputs": [],
   "source": [
    "n = int(datasize*0.1)"
   ]
  },
  {
   "cell_type": "code",
   "execution_count": 13,
   "id": "b0d6a59e",
   "metadata": {},
   "outputs": [],
   "source": [
    "ds_test = dsd.take(n)\n",
    "ds_valid = dsd.skip(n).take(n)\n",
    "ds_train = dsd.skip(n).skip(n)"
   ]
  },
  {
   "cell_type": "code",
   "execution_count": 15,
   "id": "db98ab0a",
   "metadata": {},
   "outputs": [],
   "source": [
    "testset = ds_test.batch(batch_size).prefetch(1)\n",
    "validset = ds_valid.batch(batch_size).prefetch(1)\n",
    "trainset = ds_train.batch(batch_size).prefetch(1)"
   ]
  },
  {
   "cell_type": "code",
   "execution_count": 17,
   "id": "4ecce684",
   "metadata": {},
   "outputs": [],
   "source": [
    "base_model = keras.applications.EfficientNetB4(input_shape=(224,224,3), include_top=False, weights='imagenet')\n",
    "avg = keras.layers.GlobalAveragePooling2D()(base_model.output)\n",
    "output = keras.layers.Dense(7, activation=\"softmax\")(avg)\n",
    "model = keras.models.Model(inputs=base_model.input, outputs=output)"
   ]
  },
  {
   "cell_type": "code",
   "execution_count": 18,
   "id": "1214ea5f",
   "metadata": {},
   "outputs": [],
   "source": [
    "for layer in base_model.layers:\n",
    "    layer.trainable = False\n",
    "optimizer = keras.optimizers.Adam(learning_rate=0.001)\n",
    "model.compile(loss=\"sparse_categorical_crossentropy\", optimizer=optimizer,\n",
    "              metrics=[\"accuracy\"])"
   ]
  },
  {
   "cell_type": "code",
   "execution_count": null,
   "id": "f08df614",
   "metadata": {},
   "outputs": [],
   "source": [
    "model.fit(trainset, validation_)"
   ]
  },
  {
   "cell_type": "code",
   "execution_count": null,
   "id": "a4bf3a21",
   "metadata": {},
   "outputs": [],
   "source": [
    "for layer in base_model.layers:\n",
    "    layer.trainable = True\n",
    "optimizer = keras.optimizers.Adam(learning_rate=0.0001)\n",
    "model.compile(loss=\"sparse_categorical_crossentropy\", optimizer=optimizer,\n",
    "              metrics=[\"accuracy\"])"
   ]
  },
  {
   "cell_type": "code",
   "execution_count": null,
   "id": "e07d6d7a",
   "metadata": {},
   "outputs": [],
   "source": []
  }
 ],
 "metadata": {
  "kernelspec": {
   "display_name": "Python 3 (ipykernel)",
   "language": "python",
   "name": "python3"
  },
  "language_info": {
   "codemirror_mode": {
    "name": "ipython",
    "version": 3
   },
   "file_extension": ".py",
   "mimetype": "text/x-python",
   "name": "python",
   "nbconvert_exporter": "python",
   "pygments_lexer": "ipython3",
   "version": "3.9.5"
  }
 },
 "nbformat": 4,
 "nbformat_minor": 5
}
